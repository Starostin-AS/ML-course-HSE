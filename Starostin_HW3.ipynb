{
 "cells": [
  {
   "cell_type": "code",
   "execution_count": 1,
   "metadata": {
    "collapsed": false
   },
   "outputs": [],
   "source": [
    "# -*- coding:utf -8-*-\n",
    "import operator\n",
    "import re\n",
    "import numpy as np\n",
    "import pandas as pd\n",
    "import matplotlib.pyplot as plt\n",
    "import seaborn as sns\n",
    "import itertools\n",
    "from sklearn.model_selection import train_test_split\n",
    "from nltk.corpus import stopwords\n",
    "from nltk import word_tokenize, wordpunct_tokenize\n",
    "from sklearn.feature_extraction.text import CountVectorizer, TfidfVectorizer\n",
    "from sklearn.metrics import classification_report, confusion_matrix\n",
    "from sklearn.dummy import DummyClassifier\n",
    "from sklearn.model_selection import cross_val_score\n",
    "from sklearn.datasets import make_classification\n",
    "from sklearn.naive_bayes import MultinomialNB\n",
    "from sklearn.linear_model import LogisticRegression\n",
    "from sklearn.ensemble import RandomForestClassifier\n",
    "from sklearn.tree import DecisionTreeClassifier\n",
    "import itertools\n",
    "\n",
    "%matplotlib inline\n",
    "sns.set(style=\"whitegrid\", color_codes=True)\n",
    "np.random.seed(sum(map(ord, \"categorical\")))"
   ]
  },
  {
   "cell_type": "code",
   "execution_count": 2,
   "metadata": {
    "collapsed": true
   },
   "outputs": [],
   "source": [
    "def tokenizator(text):\n",
    "    text = text.lower()\n",
    "    text = re.sub(\"[,;':.?!]\", '', text)\n",
    "    return word_tokenize(text)  "
   ]
  },
  {
   "cell_type": "markdown",
   "metadata": {},
   "source": [
    "# С чем нам придётся работать"
   ]
  },
  {
   "cell_type": "code",
   "execution_count": 3,
   "metadata": {
    "collapsed": true
   },
   "outputs": [],
   "source": [
    "f = pd.read_csv(\"All-seasons.csv\") \n",
    "f = f.drop(['Season','Episode'],1)\n",
    "f.head()\n",
    "Butters = (f.Character == \"Butters\")\n",
    "Cartman = (f.Character == \"Cartman\")\n",
    "Kyle = (f.Character == \"Kyle\")\n",
    "Stan = (f.Character == \"Stan\")\n",
    "chars = f[Cartman | Kyle | Stan | Butters]\n",
    "chars = chars.dropna()\n",
    "chars = chars.reset_index(drop=True)"
   ]
  },
  {
   "cell_type": "markdown",
   "metadata": {},
   "source": [
    "Произвели подготовку датафрейма - загрузили, убрали лишнее, оставили наиболее говорящих персонажей"
   ]
  },
  {
   "cell_type": "code",
   "execution_count": 4,
   "metadata": {
    "collapsed": false
   },
   "outputs": [],
   "source": [
    "rep_train, rep_test, char_train, char_test = train_test_split(chars['Line'], chars['Character'], test_size=0.2)"
   ]
  },
  {
   "cell_type": "code",
   "execution_count": 5,
   "metadata": {
    "collapsed": false
   },
   "outputs": [],
   "source": [
    "countvec = CountVectorizer(tokenizer = word_tokenize, stop_words = \"english\")\n",
    "train_bowed_rep = countvec.fit(rep_train)\n",
    "test_bowed_rep = countvec.fit(rep_test)\n",
    "train_bowed_rep = countvec.transform(rep_train)\n",
    "test_bowed_rep = countvec.transform(rep_test)"
   ]
  },
  {
   "cell_type": "markdown",
   "metadata": {},
   "source": [
    "fit_transform нормально работать не хочет, вызывая далее dimension mismatch. \n",
    "Стоп-слова в бой пойдут, однако обсценную лексику убирать не стоит - она значима для сериала."
   ]
  },
  {
   "cell_type": "code",
   "execution_count": 6,
   "metadata": {
    "collapsed": false
   },
   "outputs": [
    {
     "name": "stdout",
     "output_type": "stream",
     "text": [
      "             precision    recall  f1-score   support\n",
      "\n",
      "    Butters       0.10      0.10      0.10       522\n",
      "    Cartman       0.37      0.36      0.36      1959\n",
      "       Kyle       0.26      0.26      0.26      1418\n",
      "       Stan       0.27      0.28      0.28      1532\n",
      "\n",
      "avg / total       0.29      0.29      0.29      5431\n",
      "\n"
     ]
    }
   ],
   "source": [
    "DC = DummyClassifier(strategy='stratified', random_state=0)\n",
    "DC = DC.fit(train_bowed_rep, char_train)\n",
    "print(classification_report(char_test, DC.predict(test_bowed_rep)))"
   ]
  },
  {
   "cell_type": "markdown",
   "metadata": {},
   "source": [
    "Решил для baseline взять не most_frequent, а stratified, чтобы иметь возможность хоть как-то оценить не только Картмана, но и остальную тройку"
   ]
  },
  {
   "cell_type": "code",
   "execution_count": 7,
   "metadata": {
    "collapsed": false
   },
   "outputs": [
    {
     "name": "stdout",
     "output_type": "stream",
     "text": [
      "             precision    recall  f1-score   support\n",
      "\n",
      "    Butters       0.47      0.34      0.39       522\n",
      "    Cartman       0.49      0.62      0.55      1959\n",
      "       Kyle       0.41      0.30      0.35      1418\n",
      "       Stan       0.42      0.43      0.42      1532\n",
      "\n",
      "avg / total       0.45      0.46      0.45      5431\n",
      "\n"
     ]
    }
   ],
   "source": [
    "naive_model = MultinomialNB()\n",
    "naive_model.fit(train_bowed_rep, char_train)\n",
    "pred = naive_model.predict(test_bowed_rep)\n",
    "cv_results = cross_val_score(naive_model, test_bowed_rep, char_test, cv=15, scoring='accuracy')\n",
    "print(classification_report(char_test, naive_model.predict(test_bowed_rep)))"
   ]
  },
  {
   "cell_type": "markdown",
   "metadata": {},
   "source": [
    "Интереса ради посмотрим и сравним как отличится отбалансированные и неотбалансированные классификаторы"
   ]
  },
  {
   "cell_type": "code",
   "execution_count": 8,
   "metadata": {
    "collapsed": false
   },
   "outputs": [
    {
     "name": "stdout",
     "output_type": "stream",
     "text": [
      "             precision    recall  f1-score   support\n",
      "\n",
      "    Butters       0.38      0.21      0.27       522\n",
      "    Cartman       0.49      0.60      0.54      1959\n",
      "       Kyle       0.39      0.34      0.36      1418\n",
      "       Stan       0.38      0.39      0.38      1532\n",
      "\n",
      "avg / total       0.42      0.43      0.42      5431\n",
      "\n"
     ]
    }
   ],
   "source": [
    "forest = RandomForestClassifier()\n",
    "forest.fit(train_bowed_rep, char_train) \n",
    "predicted = forest.predict(test_bowed_rep)\n",
    "cv_results = cross_val_score(forest, test_bowed_rep, char_test, cv=15, scoring='accuracy')\n",
    "print(classification_report(char_test, predicted)) "
   ]
  },
  {
   "cell_type": "code",
   "execution_count": 9,
   "metadata": {
    "collapsed": false
   },
   "outputs": [
    {
     "name": "stdout",
     "output_type": "stream",
     "text": [
      "             precision    recall  f1-score   support\n",
      "\n",
      "    Butters       0.30      0.34      0.32       522\n",
      "    Cartman       0.52      0.53      0.53      1959\n",
      "       Kyle       0.36      0.34      0.35      1418\n",
      "       Stan       0.38      0.37      0.38      1532\n",
      "\n",
      "avg / total       0.42      0.42      0.42      5431\n",
      "\n"
     ]
    }
   ],
   "source": [
    "forest = RandomForestClassifier(class_weight = 'balanced')\n",
    "forest.fit(train_bowed_rep, char_train) \n",
    "predicted = forest.predict(test_bowed_rep)\n",
    "cv_results = cross_val_score(forest, test_bowed_rep, char_test, cv=15, scoring='accuracy')\n",
    "print(classification_report(char_test, predicted)) "
   ]
  },
  {
   "cell_type": "markdown",
   "metadata": {},
   "source": [
    "Кайл и Стэн в отбалансированной выборке явно распознаются хуже. \n",
    "Картман, в общем, тоже, хотя метрика Precision лучше как раз на отбалансированной выборке.\n",
    "А вот в случае с Баттерсом всё зеркально. У него хуже Precision, но лучше всё остальное.\n",
    "Общий результат же практически одинаков."
   ]
  },
  {
   "cell_type": "code",
   "execution_count": 10,
   "metadata": {
    "collapsed": false
   },
   "outputs": [
    {
     "name": "stdout",
     "output_type": "stream",
     "text": [
      "             precision    recall  f1-score   support\n",
      "\n",
      "    Butters       0.29      0.22      0.25       522\n",
      "    Cartman       0.49      0.53      0.51      1959\n",
      "       Kyle       0.36      0.33      0.34      1418\n",
      "       Stan       0.38      0.39      0.39      1532\n",
      "\n",
      "avg / total       0.40      0.41      0.41      5431\n",
      "\n"
     ]
    }
   ],
   "source": [
    "tree = DecisionTreeClassifier()\n",
    "tree.fit(train_bowed_rep, char_train) \n",
    "predicted = tree.predict(test_bowed_rep)\n",
    "cv_results = cross_val_score(tree, test_bowed_rep, char_test, cv=15, scoring='accuracy')\n",
    "print(classification_report(char_test, predicted)) "
   ]
  },
  {
   "cell_type": "code",
   "execution_count": 11,
   "metadata": {
    "collapsed": false
   },
   "outputs": [
    {
     "name": "stdout",
     "output_type": "stream",
     "text": [
      "             precision    recall  f1-score   support\n",
      "\n",
      "    Butters       0.23      0.35      0.27       522\n",
      "    Cartman       0.52      0.43      0.47      1959\n",
      "       Kyle       0.34      0.35      0.34      1418\n",
      "       Stan       0.37      0.38      0.38      1532\n",
      "\n",
      "avg / total       0.40      0.38      0.39      5431\n",
      "\n"
     ]
    }
   ],
   "source": [
    "tree = DecisionTreeClassifier(class_weight = 'balanced')\n",
    "tree.fit(train_bowed_rep, char_train) \n",
    "predicted = tree.predict(test_bowed_rep)\n",
    "cv_results = cross_val_score(tree, test_bowed_rep, char_test, cv=15, scoring='accuracy')\n",
    "print(classification_report(char_test, predicted)) "
   ]
  },
  {
   "cell_type": "markdown",
   "metadata": {},
   "source": [
    "Ситуация в принципе повторилась, правда результат ещё хуже"
   ]
  },
  {
   "cell_type": "code",
   "execution_count": 12,
   "metadata": {
    "collapsed": false
   },
   "outputs": [
    {
     "name": "stdout",
     "output_type": "stream",
     "text": [
      "             precision    recall  f1-score   support\n",
      "\n",
      "    Butters       0.66      0.28      0.39       522\n",
      "    Cartman       0.54      0.64      0.59      1959\n",
      "       Kyle       0.44      0.33      0.38      1418\n",
      "       Stan       0.41      0.49      0.45      1532\n",
      "\n",
      "avg / total       0.49      0.48      0.48      5431\n",
      "\n"
     ]
    }
   ],
   "source": [
    "log = LogisticRegression()\n",
    "log.fit(train_bowed_rep, char_train) \n",
    "predicted = log.predict(test_bowed_rep)\n",
    "cv_results = cross_val_score(log, test_bowed_rep, char_test, cv=15, scoring='accuracy')\n",
    "print(classification_report(char_test, predicted)) "
   ]
  },
  {
   "cell_type": "code",
   "execution_count": 13,
   "metadata": {
    "collapsed": false
   },
   "outputs": [
    {
     "name": "stdout",
     "output_type": "stream",
     "text": [
      "             precision    recall  f1-score   support\n",
      "\n",
      "    Butters       0.40      0.48      0.43       522\n",
      "    Cartman       0.61      0.56      0.59      1959\n",
      "       Kyle       0.43      0.38      0.40      1418\n",
      "       Stan       0.41      0.47      0.44      1532\n",
      "\n",
      "avg / total       0.49      0.48      0.48      5431\n",
      "\n"
     ]
    }
   ],
   "source": [
    "log = LogisticRegression(class_weight = 'balanced')\n",
    "log.fit(train_bowed_rep, char_train) \n",
    "predicted = log.predict(test_bowed_rep)\n",
    "cv_results = cross_val_score(log, test_bowed_rep, char_test, cv=15, scoring='accuracy')\n",
    "print(classification_report(char_test, predicted)) "
   ]
  },
  {
   "cell_type": "markdown",
   "metadata": {},
   "source": [
    "В общем и целом, выборки проявили себя плюс-минус одинаково. Однако если смотреть на отдельных персонажей, то тут данные различаются. При прочих равных, я бы из двух регрессий выбрал бы отбалансированную, потому что она несколько ровнее определяет каждого персонажа, в ней нет такого скачка, какой есть у Баттерса в неотбалансированной регрессии."
   ]
  },
  {
   "cell_type": "code",
   "execution_count": 14,
   "metadata": {
    "collapsed": false
   },
   "outputs": [
    {
     "name": "stdout",
     "output_type": "stream",
     "text": [
      "Confusion matrix, without normalization\n",
      "[[ 251   86   71  114]\n",
      " [ 140 1099  288  432]\n",
      " [ 119  286  539  474]\n",
      " [ 124  326  368  714]]\n",
      "Normalized confusion matrix\n",
      "[[ 0.48  0.16  0.14  0.22]\n",
      " [ 0.07  0.56  0.15  0.22]\n",
      " [ 0.08  0.2   0.38  0.33]\n",
      " [ 0.08  0.21  0.24  0.47]]\n"
     ]
    },
    {
     "data": {
      "image/png": "[encoded data removed]",
      "text/plain": [
       "<matplotlib.figure.Figure at 0x4778790>"
      ]
     },
     "metadata": {},
     "output_type": "display_data"
    },
    {
     "data": {
      "image/png": "[encoded data removed]",
      "text/plain": [
       "<matplotlib.figure.Figure at 0xa87a190>"
      ]
     },
     "metadata": {},
     "output_type": "display_data"
    }
   ],
   "source": [
    "def plot_confusion_matrix(cm, classes,\n",
    "                          normalize=False,\n",
    "                          title='Confusion matrix',\n",
    "                          cmap=plt.cm.Blues):\n",
    "    \"\"\"\n",
    "    This function prints and plots the confusion matrix.\n",
    "    Normalization can be applied by setting `normalize=True`.\n",
    "    \"\"\"\n",
    "    plt.imshow(cm, interpolation='nearest', cmap=cmap)\n",
    "    plt.title(title)\n",
    "    plt.colorbar()\n",
    "    tick_marks = np.arange(len(classes))\n",
    "    plt.xticks(tick_marks, classes, rotation=45)\n",
    "    plt.yticks(tick_marks, classes)\n",
    "\n",
    "    if normalize:\n",
    "        cm = cm.astype('float') / cm.sum(axis=1)[:, np.newaxis]\n",
    "        print(\"Normalized confusion matrix\")\n",
    "    else:\n",
    "        print('Confusion matrix, without normalization')\n",
    "\n",
    "    print(cm)\n",
    "\n",
    "    thresh = cm.max() / 2.\n",
    "    for i, j in itertools.product(range(cm.shape[0]), range(cm.shape[1])):\n",
    "        plt.text(j, i, cm[i, j],\n",
    "                 horizontalalignment=\"center\",\n",
    "                 color=\"white\" if cm[i, j] > thresh else \"black\")\n",
    "\n",
    "    plt.tight_layout()\n",
    "    plt.ylabel('True label')\n",
    "    plt.xlabel('Predicted label')\n",
    "\n",
    "# Compute confusion matrix\n",
    "cnf_matrix = confusion_matrix(char_test, log.predict(test_bowed_rep))\n",
    "np.set_printoptions(precision=2)\n",
    "\n",
    "# Plot non-normalized confusion matrix\n",
    "plt.figure()\n",
    "plot_confusion_matrix(cnf_matrix, classes=log.classes_,\n",
    "                      title='Confusion matrix, without normalization')\n",
    "\n",
    "# Plot normalized confusion matrix\n",
    "plt.figure()\n",
    "plot_confusion_matrix(cnf_matrix, classes=log.classes_, normalize=True,\n",
    "                      title='Normalized confusion matrix')\n",
    "\n",
    "plt.show()"
   ]
  },
  {
   "cell_type": "markdown",
   "metadata": {},
   "source": [
    "По матрице видно, чьл в целом персонажей особо не путают, хотя в общем-то могут принять Кайла за Стена."
   ]
  },
  {
   "cell_type": "markdown",
   "metadata": {},
   "source": [
    "# ИТОГ"
   ]
  },
  {
   "cell_type": "markdown",
   "metadata": {},
   "source": [
    "Лучше всего себя показали обе регрессии, хотя я бы взял отбалансированную. Однако на самом деле это выбор из меньших зол, потому что не один классификатор не дотянулся до хотя бы 50% точности."
   ]
  }
 ],
 "metadata": {
  "kernelspec": {
   "display_name": "Python 3",
   "language": "python",
   "name": "python3"
  },
  "language_info": {
   "codemirror_mode": {
    "name": "ipython",
    "version": 3
   },
   "file_extension": ".py",
   "mimetype": "text/x-python",
   "name": "python",
   "nbconvert_exporter": "python",
   "pygments_lexer": "ipython3",
   "version": "3.6.0"
  }
 },
 "nbformat": 4,
 "nbformat_minor": 2
}
